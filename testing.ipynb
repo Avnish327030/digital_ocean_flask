{
 "cells": [
  {
   "cell_type": "code",
   "execution_count": 1,
   "metadata": {},
   "outputs": [
    {
     "name": "stderr",
     "output_type": "stream",
     "text": [
      "2022-04-30 16:09:26.334828: W tensorflow/stream_executor/platform/default/dso_loader.cc:64] Could not load dynamic library 'libcudart.so.11.0'; dlerror: libcudart.so.11.0: cannot open shared object file: No such file or directory\n",
      "2022-04-30 16:09:26.334851: I tensorflow/stream_executor/cuda/cudart_stub.cc:29] Ignore above cudart dlerror if you do not have a GPU set up on your machine.\n",
      "/home/avnish/iNeuron_Private_Intelligence_Limited/AIOPS/digital_ocean_flask/venv/lib/python3.7/site-packages/tqdm/auto.py:22: TqdmWarning: IProgress not found. Please update jupyter and ipywidgets. See https://ipywidgets.readthedocs.io/en/stable/user_install.html\n",
      "  from .autonotebook import tqdm as notebook_tqdm\n"
     ]
    }
   ],
   "source": [
    "import numpy as np\n",
    "\n",
    "import tensorflow_datasets as tfds\n",
    "import tensorflow as tf\n",
    "\n",
    "tfds.disable_progress_bar()"
   ]
  },
  {
   "cell_type": "code",
   "execution_count": 2,
   "metadata": {},
   "outputs": [],
   "source": [
    "import matplotlib.pyplot as plt\n",
    "\n",
    "\n",
    "def plot_graphs(history, metric):\n",
    "  plt.plot(history.history[metric])\n",
    "  plt.plot(history.history['val_'+metric], '')\n",
    "  plt.xlabel(\"Epochs\")\n",
    "  plt.ylabel(metric)\n",
    "  plt.legend([metric, 'val_'+metric])"
   ]
  },
  {
   "cell_type": "code",
   "execution_count": 3,
   "metadata": {},
   "outputs": [
    {
     "name": "stderr",
     "output_type": "stream",
     "text": [
      "2022-04-30 16:09:28.397695: I tensorflow/stream_executor/cuda/cuda_gpu_executor.cc:939] successful NUMA node read from SysFS had negative value (-1), but there must be at least one NUMA node, so returning NUMA node zero\n",
      "2022-04-30 16:09:28.398288: W tensorflow/stream_executor/platform/default/dso_loader.cc:64] Could not load dynamic library 'libcudart.so.11.0'; dlerror: libcudart.so.11.0: cannot open shared object file: No such file or directory\n",
      "2022-04-30 16:09:28.398366: W tensorflow/stream_executor/platform/default/dso_loader.cc:64] Could not load dynamic library 'libcublas.so.11'; dlerror: libcublas.so.11: cannot open shared object file: No such file or directory\n",
      "2022-04-30 16:09:28.398416: W tensorflow/stream_executor/platform/default/dso_loader.cc:64] Could not load dynamic library 'libcublasLt.so.11'; dlerror: libcublasLt.so.11: cannot open shared object file: No such file or directory\n",
      "2022-04-30 16:09:28.398492: W tensorflow/stream_executor/platform/default/dso_loader.cc:64] Could not load dynamic library 'libcufft.so.10'; dlerror: libcufft.so.10: cannot open shared object file: No such file or directory\n",
      "2022-04-30 16:09:28.398541: W tensorflow/stream_executor/platform/default/dso_loader.cc:64] Could not load dynamic library 'libcurand.so.10'; dlerror: libcurand.so.10: cannot open shared object file: No such file or directory\n",
      "2022-04-30 16:09:28.398585: W tensorflow/stream_executor/platform/default/dso_loader.cc:64] Could not load dynamic library 'libcusolver.so.11'; dlerror: libcusolver.so.11: cannot open shared object file: No such file or directory\n",
      "2022-04-30 16:09:28.398626: W tensorflow/stream_executor/platform/default/dso_loader.cc:64] Could not load dynamic library 'libcusparse.so.11'; dlerror: libcusparse.so.11: cannot open shared object file: No such file or directory\n",
      "2022-04-30 16:09:28.398760: W tensorflow/stream_executor/platform/default/dso_loader.cc:64] Could not load dynamic library 'libcudnn.so.8'; dlerror: libcudnn.so.8: cannot open shared object file: No such file or directory\n",
      "2022-04-30 16:09:28.398772: W tensorflow/core/common_runtime/gpu/gpu_device.cc:1850] Cannot dlopen some GPU libraries. Please make sure the missing libraries mentioned above are installed properly if you would like to use GPU. Follow the guide at https://www.tensorflow.org/install/gpu for how to download and setup the required libraries for your platform.\n",
      "Skipping registering GPU devices...\n",
      "2022-04-30 16:09:28.399443: I tensorflow/core/platform/cpu_feature_guard.cc:151] This TensorFlow binary is optimized with oneAPI Deep Neural Network Library (oneDNN) to use the following CPU instructions in performance-critical operations:  AVX2 AVX512F FMA\n",
      "To enable them in other operations, rebuild TensorFlow with the appropriate compiler flags.\n"
     ]
    },
    {
     "data": {
      "text/plain": [
       "(TensorSpec(shape=(), dtype=tf.string, name=None),\n",
       " TensorSpec(shape=(), dtype=tf.int64, name=None))"
      ]
     },
     "execution_count": 3,
     "metadata": {},
     "output_type": "execute_result"
    }
   ],
   "source": [
    "dataset, info = tfds.load('imdb_reviews', with_info=True,\n",
    "                          as_supervised=True)\n",
    "train_dataset, test_dataset = dataset['train'], dataset['test']\n",
    "\n",
    "train_dataset.element_spec"
   ]
  },
  {
   "cell_type": "code",
   "execution_count": 38,
   "metadata": {},
   "outputs": [
    {
     "data": {
      "text/plain": [
       "<TakeDataset shapes: ((), ()), types: (tf.string, tf.int64)>"
      ]
     },
     "execution_count": 38,
     "metadata": {},
     "output_type": "execute_result"
    }
   ],
   "source": [
    "dataset['train'].take(1)"
   ]
  },
  {
   "cell_type": "code",
   "execution_count": 55,
   "metadata": {},
   "outputs": [
    {
     "data": {
      "text/plain": [
       "<PrefetchDataset shapes: ((), ()), types: (tf.string, tf.int64)>"
      ]
     },
     "execution_count": 55,
     "metadata": {},
     "output_type": "execute_result"
    }
   ],
   "source": [
    "dataset['train']"
   ]
  },
  {
   "cell_type": "code",
   "execution_count": null,
   "metadata": {},
   "outputs": [],
   "source": [
    "import tensorflow as tf\n",
    "\n",
    "x = tf.constant([[2.0, 3.0, 3.0],\n",
    "                 [1.0, 5.0, 9.0]], dtype='float32')\n",
    "# Write to file\n",
    "ds = (tf.data.Dataset.from_tensors(x)\n",
    "      .map(tf.io.serialize_tensor))\n",
    "writer = tf.data.experimental.TFRecordWriter('temp.tfrecord')\n",
    "writer.write(ds)\n",
    "# Read from file\n",
    "parse_tensor_f32 = lambda x: tf.io.parse_tensor(x, tf.float32)\n",
    "ds2 = (tf.data.TFRecordDataset('temp.tfrecord')\n",
    "       .map(parse_tensor_f32))\n",
    "for x2 in ds2:\n",
    "    tf.print(x2)\n",
    "# [[2 3 3]\n",
    "#  [1 5 9]]"
   ]
  },
  {
   "cell_type": "code",
   "execution_count": 34,
   "metadata": {},
   "outputs": [
    {
     "name": "stdout",
     "output_type": "stream",
     "text": [
      "tf.Tensor(b\"This was an absolutely terrible movie. Don't be lured in by Christopher Walken or Michael Ironside. Both are great actors, but this must simply be their worst role in history. Even their great acting could not redeem this movie's ridiculous storyline. This movie is an early nineties US propaganda piece. The most pathetic scenes were those when the Columbian rebels were making their cases for revolutions. Maria Conchita Alonso appeared phony, and her pseudo-love affair with Walken was nothing but a pathetic emotional plug in a movie that was devoid of any real meaning. I am disappointed that there are movies like this, ruining actor's like Christopher Walken's good name. I could barely sit through it.\", shape=(), dtype=string) tf.Tensor(0, shape=(), dtype=int64)\n"
     ]
    }
   ],
   "source": [
    "for x,y in dataset['train'].take(1):\n",
    "    print(x,y)"
   ]
  },
  {
   "cell_type": "code",
   "execution_count": 20,
   "metadata": {},
   "outputs": [
    {
     "name": "stdout",
     "output_type": "stream",
     "text": [
      "0 TensorSpec(shape=(), dtype=tf.string, name=None)\n",
      "1 TensorSpec(shape=(), dtype=tf.int64, name=None)\n"
     ]
    }
   ],
   "source": [
    "for i, _ in enumerate(dataset['train'].element_spec):\n",
    "    print(i,_)\n",
    "    ds_i = dataset['train'].map(lambda *args: args[i]).map(tf.io.serialize_tensor)\n",
    "    writer = tf.data.experimental.TFRecordWriter(f'mydata.{i}.tfrecord')\n",
    "    writer.write(ds_i)"
   ]
  },
  {
   "cell_type": "code",
   "execution_count": 27,
   "metadata": {},
   "outputs": [
    {
     "name": "stdout",
     "output_type": "stream",
     "text": [
      "\n"
     ]
    }
   ],
   "source": [
    "raw_dataset=tf.data.TFRecordDataset(\"mydata.1.tfrecord\")\n",
    "for raw_record in raw_dataset.take(1):\n",
    "    example = tf.train.Example()\n",
    "    example.ParseFromString(raw_record.numpy())\n",
    "    print(example)"
   ]
  },
  {
   "cell_type": "code",
   "execution_count": null,
   "metadata": {},
   "outputs": [],
   "source": []
  },
  {
   "cell_type": "code",
   "execution_count": 29,
   "metadata": {},
   "outputs": [
    {
     "data": {
      "text/plain": [
       "<tf.Tensor: shape=(2, 2), dtype=int32, numpy=\n",
       "array([[0, 0],\n",
       "       [1, 2]], dtype=int32)>"
      ]
     },
     "execution_count": 29,
     "metadata": {},
     "output_type": "execute_result"
    }
   ],
   "source": [
    "tf.constant([[0,0],[1,2]])"
   ]
  },
  {
   "cell_type": "code",
   "execution_count": null,
   "metadata": {},
   "outputs": [],
   "source": [
    "tf.data."
   ]
  },
  {
   "cell_type": "code",
   "execution_count": null,
   "metadata": {},
   "outputs": [],
   "source": [
    "schema = {\n",
    "    \n",
    "    \n",
    "}"
   ]
  },
  {
   "cell_type": "code",
   "execution_count": null,
   "metadata": {},
   "outputs": [],
   "source": [
    "# Write the records to a file.\n",
    "... with tf.io.TFRecordWriter(example_path) as file_writer:\n",
    "...   for _ in range(4):\n",
    "...     x, y = np.random.random(), np.random.random()\n",
    "...\n",
    "...     record_bytes = tf.train.Example(features=tf.train.Features(feature={\n",
    "...         \"x\": tf.train.Feature(float_list=tf.train.FloatList(value=[x])),\n",
    "...         \"y\": tf.train.Feature(float_list=tf.train.FloatList(value=[y])),\n",
    "...     })).SerializeToString()\n",
    "...     file_writer.write(record_bytes)\n",
    "\n",
    ">>> # Read the data back out.\n",
    ">>> def decode_fn(record_bytes):\n",
    "...   return tf.io.parse_single_example(\n",
    "...       # Data\n",
    "...       record_bytes,\n",
    "...\n",
    "...       # Schema\n",
    "...       {\"x\": tf.io.FixedLenFeature([], dtype=tf.float32),\n",
    "...        \"y\": tf.io.FixedLenFeature([], dtype=tf.float32)}\n",
    "...   )\n",
    "\n",
    ">>> for batch in tf.data.TFRecordDataset([example_path]).map(decode_fn):\n",
    "...   print(\"x = {x:.4f},  y = {y:.4f}\".format(**batch))\n",
    "x = 0.5488,  y = 0.7152\n",
    "x = 0.6028,  y = 0.5449\n",
    "x = 0.4237,  y = 0.6459\n",
    "x = 0.4376,  y = 0.8918"
   ]
  },
  {
   "cell_type": "code",
   "execution_count": null,
   "metadata": {},
   "outputs": [],
   "source": []
  },
  {
   "cell_type": "code",
   "execution_count": null,
   "metadata": {},
   "outputs": [],
   "source": []
  },
  {
   "cell_type": "code",
   "execution_count": null,
   "metadata": {},
   "outputs": [],
   "source": []
  },
  {
   "cell_type": "code",
   "execution_count": null,
   "metadata": {},
   "outputs": [],
   "source": []
  },
  {
   "cell_type": "code",
   "execution_count": 4,
   "metadata": {},
   "outputs": [
    {
     "name": "stdout",
     "output_type": "stream",
     "text": [
      "text:  b\"This was an absolutely terrible movie. Don't be lured in by Christopher Walken or Michael Ironside. Both are great actors, but this must simply be their worst role in history. Even their great acting could not redeem this movie's ridiculous storyline. This movie is an early nineties US propaganda piece. The most pathetic scenes were those when the Columbian rebels were making their cases for revolutions. Maria Conchita Alonso appeared phony, and her pseudo-love affair with Walken was nothing but a pathetic emotional plug in a movie that was devoid of any real meaning. I am disappointed that there are movies like this, ruining actor's like Christopher Walken's good name. I could barely sit through it.\"\n",
      "label:  0\n"
     ]
    },
    {
     "name": "stderr",
     "output_type": "stream",
     "text": [
      "2022-04-30 14:27:53.228231: W tensorflow/core/kernels/data/cache_dataset_ops.cc:768] The calling iterator did not fully read the dataset being cached. In order to avoid unexpected truncation of the dataset, the partially cached contents of the dataset  will be discarded. This can happen if you have an input pipeline similar to `dataset.cache().take(k).repeat()`. You should use `dataset.take(k).cache().repeat()` instead.\n"
     ]
    }
   ],
   "source": [
    "for example, label in train_dataset.take(1):\n",
    "  print('text: ', example.numpy())\n",
    "  print('label: ', label.numpy())"
   ]
  },
  {
   "cell_type": "code",
   "execution_count": 5,
   "metadata": {},
   "outputs": [],
   "source": [
    "BUFFER_SIZE = 10000\n",
    "BATCH_SIZE = 64"
   ]
  },
  {
   "cell_type": "code",
   "execution_count": 6,
   "metadata": {},
   "outputs": [],
   "source": [
    "train_dataset = train_dataset.shuffle(BUFFER_SIZE).batch(BATCH_SIZE).prefetch(tf.data.AUTOTUNE)\n",
    "test_dataset = test_dataset.batch(BATCH_SIZE).prefetch(tf.data.AUTOTUNE)"
   ]
  },
  {
   "cell_type": "code",
   "execution_count": 7,
   "metadata": {},
   "outputs": [
    {
     "name": "stdout",
     "output_type": "stream",
     "text": [
      "texts:  [b'I have never seen such terrible performances in all my life.<br /><br />Everyone in the entire film was absolute rubbish.<br /><br />Not one decent actor/actress in the whole film, it was a joke.<br /><br />Reminded me of drama at school...'\n",
      " b'Even 15 years after the end of the Vietnam war \"Jacknife\" came not too late or was even superfluous. It\\'s one of the few that try to deal with the second sad side of the war: The time after. Different from movies like \"Taxi driver\" or \"Rambo\" which use to present their main characters as broken heroes in a bad after war environment this movie allows the audience to face a different view on the Vietnam vets. Their development is shown very precisely before and especially after the war. The problems are obvious but in all this tragic there is always the feeling of some hope on the basis of love and friendship. \"Jacknife\" might be the quietest Vietnam movie ever but after almost 15 years this is really plausible and therefor justified. Moreover, it can make us believe that the war has not finished, yet; at least for some of us.<br /><br />The three main characters are amazing. De Niro has done one of his best jobs but Ed Harris is the star of this movie. Possibly,this was his best performance ever.'\n",
      " b\"Hello Mary Lou: Prom Night II starts at the Hamilton High School prom of 1957 where Mary Lou Maloney (Lisa Schrage) is cheating on her date Bill Nordham (Steve Atkinson) with Bud Cooper (Robert Lewis). Bill finds out & is devastated, meanwhile Mary Lou is announced prom queen 1957 & takes to the stage to accept her award. Bill, still hurting, decides to play a practical joke on Mary Lou so he throws a firecracker on stage but the still lit fuse catches Mary Lou's dress setting it & her on fire, within seconds Mary Lou is toast. 30 years later & Hamilton High is soon to hold it's annual prom night. Bill (Micheal Ironside) is now the principal & has a teenage son named Craig (Justin Louis) who is dating Vicki Carpenter (Wendy Lyon) & are both planning on going to the prom together. Bud (Richard Monette) is now a priest, that terrible night 30 years ago still haunt both Bill & Bud. One day Vicki is looking around the schools basement when she discovers a large trunk which she opens, this turns out to be a bad move as the vengeful spirit of Mary Lou is set free & is intent on claiming her crown as prom queen & in her spare time sets out to avenge her untimely death. First up is Jess Browning (Beth Gondek) whose death is put down to a suicide, Mary Lou begins to posses Vicki's body as the night of the prom draws nearer. After disposing of some competition in the shape of Kelly Hennenlotter (Terri Hawkes) who tries to fix the prom so she wins. Mary Lou in Vicki's body is crowned Hamilton High prom queen which allows Mary Lou herself to come back from the dead to make an unexpected appearance & really liven the party up...<br /><br />With absolutely no connection to the original Prom Night (1980) & directed by Bruce Pittman I thought Hello Mary Lou: Prom Night II wasn't a particularly good film. The script by Ron Oliver concentrates more on supernatural elements rather than cheap teen slasher themes, whether this was a good or bad decision will depend on your expectations I suppose. Personally I found these different elements didn't really gel or work that well together at all. The whole film was far to slow to be really enjoyable, after the opening sequence where Mary Lou dies no one else is killed until the half hour mark & then the film plods along for another half an hour until Vicki is finally possessed & the film finally picks up momentum for the climax where an evil Mary Lou kills a whole one person at the prom before she is supposedly defeated, come on horror film fans you did expect that clich\\xc3\\xa9d 'killer not dead & ready for a sequel' ending didn't you? Don't expect a hight body count, just five throughout the entire film & none particularly graphic although I did like the way Monica (Beverley Hendry as Beverly Hendry) tried to hide in a shower room locker which Mary Lou crushed & resulting in poor Monica's blood oozing out. The supernatural side of Hello Mary Lou: Prom Night II is depicted by Vicki having lots of hallucinations for the first hour & Mary Lou controlling objects during the latter stages including a couple of creepy shots of a rocking horse which comes to life, the blackboard scene is quite good as well as it turns into water & zombie hands drag Vicki into it. The slasher side of Hello Mary Lou: Prom Night II isn't outstanding, I did like Mary Lou herself as she churns out the obligatory one-liners & she made for a good villain even if she didn't get to kill enough people. Oh, & yes I did get the running homages to various other horror film director's with almost all of the character's sharing last names with one, this obviously adds nothing to the film but is a nice little touch I suppose. The acting is OK but the normally dependable Micheal Ironside looks lost & uninterested almost as if he's asking himself what he's doing in this & if he'll ever work again. Forget about any gore, someone is hanged, there is a stabbing with a crucifix that happens off screen, someone is impaled with a neon light, a computer goes crazy & electrocutes someones face(!?) & Mary Lou bursts out of Vicki's body at first as a rotting zombie which was quite a cool scene. There are some full frontal nudity shots in the girls shower as well, if that's your thing. To give it some credit Hello Mary Lou: Prom Night II is OK to watch, has reasonable production values throughout & is generally well made. Overall I was disappointed by Hello Mary Lou: Prom Night II, it was just too slow & ultimately uneventful to maintain my interest for nearly 100 minutes. I'm not sure whether it deserves a 3 or 4 star rating, I'll give it a 4 as there's nothing specifically wrong with it I suppose & I've sat through much worse films but it just didn't really do anything for me I'm afraid.\"]\n",
      "\n",
      "labels:  [0 1 0]\n"
     ]
    },
    {
     "name": "stderr",
     "output_type": "stream",
     "text": [
      "2022-04-30 14:28:18.736569: W tensorflow/core/kernels/data/cache_dataset_ops.cc:768] The calling iterator did not fully read the dataset being cached. In order to avoid unexpected truncation of the dataset, the partially cached contents of the dataset  will be discarded. This can happen if you have an input pipeline similar to `dataset.cache().take(k).repeat()`. You should use `dataset.take(k).cache().repeat()` instead.\n"
     ]
    }
   ],
   "source": [
    "for example, label in train_dataset.take(1):\n",
    "  print('texts: ', example.numpy()[:3])\n",
    "  print()\n",
    "  print('labels: ', label.numpy()[:3])"
   ]
  },
  {
   "cell_type": "code",
   "execution_count": 8,
   "metadata": {},
   "outputs": [],
   "source": [
    "VOCAB_SIZE = 1000\n",
    "encoder = tf.keras.layers.TextVectorization(\n",
    "    max_tokens=VOCAB_SIZE)\n",
    "encoder.adapt(train_dataset.map(lambda text, label: text))"
   ]
  },
  {
   "cell_type": "code",
   "execution_count": 9,
   "metadata": {},
   "outputs": [
    {
     "data": {
      "text/plain": [
       "array(['', '[UNK]', 'the', 'and', 'a', 'of', 'to', 'is', 'in', 'it', 'i',\n",
       "       'this', 'that', 'br', 'was', 'as', 'for', 'with', 'movie', 'but'],\n",
       "      dtype='<U14')"
      ]
     },
     "execution_count": 9,
     "metadata": {},
     "output_type": "execute_result"
    }
   ],
   "source": [
    "vocab = np.array(encoder.get_vocabulary())\n",
    "vocab[:20]"
   ]
  },
  {
   "cell_type": "code",
   "execution_count": 10,
   "metadata": {},
   "outputs": [
    {
     "data": {
      "text/plain": [
       "array([[ 10,  26, 110, ...,   0,   0,   0],\n",
       "       [ 54,   1, 148, ...,   0,   0,   0],\n",
       "       [  1,   1,   1, ...,  70, 142,   1]])"
      ]
     },
     "execution_count": 10,
     "metadata": {},
     "output_type": "execute_result"
    }
   ],
   "source": [
    "encoded_example = encoder(example)[:3].numpy()\n",
    "encoded_example"
   ]
  },
  {
   "cell_type": "code",
   "execution_count": 11,
   "metadata": {},
   "outputs": [
    {
     "name": "stdout",
     "output_type": "stream",
     "text": [
      "Original:  b'I have never seen such terrible performances in all my life.<br /><br />Everyone in the entire film was absolute rubbish.<br /><br />Not one decent actor/actress in the whole film, it was a joke.<br /><br />Reminded me of drama at school...'\n",
      "Round-trip:  i have never seen such terrible performances in all my [UNK] br everyone in the entire film was [UNK] [UNK] br not one decent [UNK] in the whole film it was a [UNK] br [UNK] me of drama at school                                                                                                                                                                                                                                                                                                                                                                                                                                                                                                                                                                                                                                                                                                                                                                                                                                  \n",
      "\n",
      "Original:  b'Even 15 years after the end of the Vietnam war \"Jacknife\" came not too late or was even superfluous. It\\'s one of the few that try to deal with the second sad side of the war: The time after. Different from movies like \"Taxi driver\" or \"Rambo\" which use to present their main characters as broken heroes in a bad after war environment this movie allows the audience to face a different view on the Vietnam vets. Their development is shown very precisely before and especially after the war. The problems are obvious but in all this tragic there is always the feeling of some hope on the basis of love and friendship. \"Jacknife\" might be the quietest Vietnam movie ever but after almost 15 years this is really plausible and therefor justified. Moreover, it can make us believe that the war has not finished, yet; at least for some of us.<br /><br />The three main characters are amazing. De Niro has done one of his best jobs but Ed Harris is the star of this movie. Possibly,this was his best performance ever.'\n",
      "Round-trip:  even [UNK] years after the end of the [UNK] war [UNK] came not too late or was even [UNK] its one of the few that try to deal with the second sad side of the war the time after different from movies like [UNK] [UNK] or [UNK] which use to present their main characters as [UNK] [UNK] in a bad after war [UNK] this movie [UNK] the audience to face a different view on the [UNK] [UNK] their development is shown very [UNK] before and especially after the war the problems are obvious but in all this [UNK] there is always the feeling of some hope on the [UNK] of love and [UNK] [UNK] might be the [UNK] [UNK] movie ever but after almost [UNK] years this is really [UNK] and [UNK] [UNK] [UNK] it can make us believe that the war has not [UNK] yet at least for some of [UNK] br the three main characters are amazing de [UNK] has done one of his best [UNK] but [UNK] [UNK] is the star of this movie [UNK] was his best performance ever                                                                                                                                                                                                                                                                                                                                                                                                                                                                                                                                                                                                                                                                                   \n",
      "\n",
      "Original:  b\"Hello Mary Lou: Prom Night II starts at the Hamilton High School prom of 1957 where Mary Lou Maloney (Lisa Schrage) is cheating on her date Bill Nordham (Steve Atkinson) with Bud Cooper (Robert Lewis). Bill finds out & is devastated, meanwhile Mary Lou is announced prom queen 1957 & takes to the stage to accept her award. Bill, still hurting, decides to play a practical joke on Mary Lou so he throws a firecracker on stage but the still lit fuse catches Mary Lou's dress setting it & her on fire, within seconds Mary Lou is toast. 30 years later & Hamilton High is soon to hold it's annual prom night. Bill (Micheal Ironside) is now the principal & has a teenage son named Craig (Justin Louis) who is dating Vicki Carpenter (Wendy Lyon) & are both planning on going to the prom together. Bud (Richard Monette) is now a priest, that terrible night 30 years ago still haunt both Bill & Bud. One day Vicki is looking around the schools basement when she discovers a large trunk which she opens, this turns out to be a bad move as the vengeful spirit of Mary Lou is set free & is intent on claiming her crown as prom queen & in her spare time sets out to avenge her untimely death. First up is Jess Browning (Beth Gondek) whose death is put down to a suicide, Mary Lou begins to posses Vicki's body as the night of the prom draws nearer. After disposing of some competition in the shape of Kelly Hennenlotter (Terri Hawkes) who tries to fix the prom so she wins. Mary Lou in Vicki's body is crowned Hamilton High prom queen which allows Mary Lou herself to come back from the dead to make an unexpected appearance & really liven the party up...<br /><br />With absolutely no connection to the original Prom Night (1980) & directed by Bruce Pittman I thought Hello Mary Lou: Prom Night II wasn't a particularly good film. The script by Ron Oliver concentrates more on supernatural elements rather than cheap teen slasher themes, whether this was a good or bad decision will depend on your expectations I suppose. Personally I found these different elements didn't really gel or work that well together at all. The whole film was far to slow to be really enjoyable, after the opening sequence where Mary Lou dies no one else is killed until the half hour mark & then the film plods along for another half an hour until Vicki is finally possessed & the film finally picks up momentum for the climax where an evil Mary Lou kills a whole one person at the prom before she is supposedly defeated, come on horror film fans you did expect that clich\\xc3\\xa9d 'killer not dead & ready for a sequel' ending didn't you? Don't expect a hight body count, just five throughout the entire film & none particularly graphic although I did like the way Monica (Beverley Hendry as Beverly Hendry) tried to hide in a shower room locker which Mary Lou crushed & resulting in poor Monica's blood oozing out. The supernatural side of Hello Mary Lou: Prom Night II is depicted by Vicki having lots of hallucinations for the first hour & Mary Lou controlling objects during the latter stages including a couple of creepy shots of a rocking horse which comes to life, the blackboard scene is quite good as well as it turns into water & zombie hands drag Vicki into it. The slasher side of Hello Mary Lou: Prom Night II isn't outstanding, I did like Mary Lou herself as she churns out the obligatory one-liners & she made for a good villain even if she didn't get to kill enough people. Oh, & yes I did get the running homages to various other horror film director's with almost all of the character's sharing last names with one, this obviously adds nothing to the film but is a nice little touch I suppose. The acting is OK but the normally dependable Micheal Ironside looks lost & uninterested almost as if he's asking himself what he's doing in this & if he'll ever work again. Forget about any gore, someone is hanged, there is a stabbing with a crucifix that happens off screen, someone is impaled with a neon light, a computer goes crazy & electrocutes someones face(!?) & Mary Lou bursts out of Vicki's body at first as a rotting zombie which was quite a cool scene. There are some full frontal nudity shots in the girls shower as well, if that's your thing. To give it some credit Hello Mary Lou: Prom Night II is OK to watch, has reasonable production values throughout & is generally well made. Overall I was disappointed by Hello Mary Lou: Prom Night II, it was just too slow & ultimately uneventful to maintain my interest for nearly 100 minutes. I'm not sure whether it deserves a 3 or 4 star rating, I'll give it a 4 as there's nothing specifically wrong with it I suppose & I've sat through much worse films but it just didn't really do anything for me I'm afraid.\"\n",
      "Round-trip:  [UNK] [UNK] [UNK] [UNK] night [UNK] starts at the [UNK] high school [UNK] of [UNK] where [UNK] [UNK] [UNK] [UNK] [UNK] is [UNK] on her [UNK] bill [UNK] [UNK] [UNK] with [UNK] [UNK] robert [UNK] bill finds out is [UNK] [UNK] [UNK] [UNK] is [UNK] [UNK] [UNK] [UNK] takes to the stage to [UNK] her [UNK] bill still [UNK] [UNK] to play a [UNK] joke on [UNK] [UNK] so he [UNK] a [UNK] on stage but the still [UNK] [UNK] [UNK] [UNK] [UNK] [UNK] setting it her on fire within [UNK] [UNK] [UNK] is [UNK] [UNK] years later [UNK] high is soon to [UNK] its [UNK] [UNK] night bill [UNK] [UNK] is now the [UNK] has a [UNK] son named [UNK] [UNK] [UNK] who is [UNK] [UNK] [UNK] [UNK] [UNK] are both [UNK] on going to the [UNK] together [UNK] richard [UNK] is now a [UNK] that terrible night [UNK] years ago still [UNK] both bill [UNK] one day [UNK] is looking around the [UNK] [UNK] when she [UNK] a [UNK] [UNK] which she [UNK] this turns out to be a bad move as the [UNK] [UNK] of [UNK] [UNK] is set free is [UNK] on [UNK] her [UNK] as [UNK] [UNK] in her [UNK] time sets out to [UNK] her [UNK] death first up is [UNK] [UNK] [UNK] [UNK] whose death is put down to a [UNK] [UNK] [UNK] begins to [UNK] [UNK] body as the night of the [UNK] [UNK] [UNK] after [UNK] of some [UNK] in the [UNK] of [UNK] [UNK] [UNK] [UNK] who tries to [UNK] the [UNK] so she [UNK] [UNK] [UNK] in [UNK] body is [UNK] [UNK] high [UNK] [UNK] which [UNK] [UNK] [UNK] herself to come back from the dead to make an [UNK] [UNK] really [UNK] the [UNK] [UNK] br with absolutely no [UNK] to the original [UNK] night [UNK] directed by [UNK] [UNK] i thought [UNK] [UNK] [UNK] [UNK] night [UNK] wasnt a particularly good film the script by [UNK] [UNK] [UNK] more on [UNK] elements rather than cheap [UNK] [UNK] [UNK] whether this was a good or bad [UNK] will [UNK] on your [UNK] i [UNK] [UNK] i found these different elements didnt really [UNK] or work that well together at all the whole film was far to slow to be really enjoyable after the opening sequence where [UNK] [UNK] [UNK] no one else is killed until the half hour mark then the film [UNK] along for another half an hour until [UNK] is finally [UNK] the film finally [UNK] up [UNK] for the [UNK] where an evil [UNK] [UNK] [UNK] a whole one person at the [UNK] before she is [UNK] [UNK] come on horror film fans you did expect that [UNK] killer not dead [UNK] for a sequel ending didnt you dont expect a [UNK] body [UNK] just five throughout the entire film none particularly [UNK] although i did like the way [UNK] [UNK] [UNK] as [UNK] [UNK] tried to [UNK] in a [UNK] room [UNK] which [UNK] [UNK] [UNK] [UNK] in poor [UNK] blood [UNK] out the [UNK] side of [UNK] [UNK] [UNK] [UNK] night [UNK] is [UNK] by [UNK] having lots of [UNK] for the first hour [UNK] [UNK] [UNK] [UNK] during the [UNK] [UNK] including a couple of creepy shots of a [UNK] [UNK] which comes to life the [UNK] scene is quite good as well as it turns into [UNK] zombie hands [UNK] [UNK] into it the [UNK] side of [UNK] [UNK] [UNK] [UNK] night [UNK] isnt [UNK] i did like [UNK] [UNK] herself as she [UNK] out the [UNK] [UNK] she made for a good [UNK] even if she didnt get to kill enough people oh yes i did get the running [UNK] to various other horror film directors with almost all of the characters [UNK] last [UNK] with one this obviously [UNK] nothing to the film but is a nice little [UNK] i [UNK] the acting is ok but the [UNK] [UNK] [UNK] [UNK] looks lost [UNK] almost as if hes [UNK] himself what hes doing in this if hell ever work again forget about any gore someone is [UNK] there is a [UNK] with a [UNK] that happens off screen someone is [UNK] with a [UNK] light a [UNK] goes crazy [UNK] [UNK] face [UNK] [UNK] [UNK] out of [UNK] body at first as a [UNK] zombie which was quite a cool scene there are some full [UNK] [UNK] shots in the girls [UNK] as well if thats your thing to give it some [UNK] [UNK] [UNK] [UNK] [UNK] night [UNK] is ok to watch has [UNK] production [UNK] throughout is [UNK] well made overall i was disappointed by [UNK] [UNK] [UNK] [UNK] night [UNK] it was just too slow [UNK] [UNK] to [UNK] my interest for nearly [UNK] minutes im not sure whether it deserves a 3 or 4 star rating ill give it a 4 as theres nothing [UNK] wrong with it i [UNK] ive [UNK] through much worse films but it just didnt really do anything for me im [UNK]\n",
      "\n"
     ]
    }
   ],
   "source": [
    "for n in range(3):\n",
    "  print(\"Original: \", example[n].numpy())\n",
    "  print(\"Round-trip: \", \" \".join(vocab[encoded_example[n]]))\n",
    "  print()"
   ]
  },
  {
   "cell_type": "markdown",
   "metadata": {},
   "source": [
    "<img src=\"https://www.tensorflow.org/text/tutorials/images/bidirectional.png\">"
   ]
  },
  {
   "cell_type": "code",
   "execution_count": 14,
   "metadata": {},
   "outputs": [],
   "source": [
    "model = tf.keras.Sequential([\n",
    "    encoder,\n",
    "    tf.keras.layers.Embedding(\n",
    "        input_dim=len(encoder.get_vocabulary()),\n",
    "        output_dim=64,\n",
    "        # Use masking to handle the variable sequence lengths\n",
    "        mask_zero=True),\n",
    "    tf.keras.layers.Bidirectional(tf.keras.layers.LSTM(64)),\n",
    "    tf.keras.layers.Dense(64, activation='relu'),\n",
    "    tf.keras.layers.Dense(1)\n",
    "])"
   ]
  },
  {
   "cell_type": "code",
   "execution_count": 15,
   "metadata": {},
   "outputs": [
    {
     "name": "stdout",
     "output_type": "stream",
     "text": [
      "Model: \"sequential\"\n",
      "_________________________________________________________________\n",
      " Layer (type)                Output Shape              Param #   \n",
      "=================================================================\n",
      " text_vectorization (TextVec  (None, None)             0         \n",
      " torization)                                                     \n",
      "                                                                 \n",
      " embedding (Embedding)       (None, None, 64)          64000     \n",
      "                                                                 \n",
      " bidirectional (Bidirectiona  (None, 128)              66048     \n",
      " l)                                                              \n",
      "                                                                 \n",
      " dense (Dense)               (None, 64)                8256      \n",
      "                                                                 \n",
      " dense_1 (Dense)             (None, 1)                 65        \n",
      "                                                                 \n",
      "=================================================================\n",
      "Total params: 138,369\n",
      "Trainable params: 138,369\n",
      "Non-trainable params: 0\n",
      "_________________________________________________________________\n"
     ]
    }
   ],
   "source": [
    "model.summary()"
   ]
  },
  {
   "cell_type": "code",
   "execution_count": 16,
   "metadata": {},
   "outputs": [
    {
     "name": "stdout",
     "output_type": "stream",
     "text": [
      "[-0.00089124]\n"
     ]
    }
   ],
   "source": [
    "# predict on a sample text without padding.\n",
    "\n",
    "sample_text = ('The movie was cool. The animation and the graphics '\n",
    "               'were out of this world. I would recommend this movie.')\n",
    "predictions = model.predict(np.array([sample_text]))\n",
    "print(predictions[0])"
   ]
  },
  {
   "cell_type": "code",
   "execution_count": 17,
   "metadata": {},
   "outputs": [
    {
     "name": "stdout",
     "output_type": "stream",
     "text": [
      "[-0.00089124]\n"
     ]
    }
   ],
   "source": [
    "# predict on a sample text with padding\n",
    "\n",
    "padding = \"the \" * 2000\n",
    "predictions = model.predict(np.array([sample_text, padding]))\n",
    "print(predictions[0])"
   ]
  },
  {
   "cell_type": "code",
   "execution_count": 18,
   "metadata": {},
   "outputs": [],
   "source": [
    "model.compile(loss=tf.keras.losses.BinaryCrossentropy(from_logits=True),\n",
    "              optimizer=tf.keras.optimizers.Adam(1e-4),\n",
    "              metrics=['accuracy'])"
   ]
  },
  {
   "cell_type": "code",
   "execution_count": 19,
   "metadata": {},
   "outputs": [
    {
     "name": "stdout",
     "output_type": "stream",
     "text": [
      "Epoch 1/10\n",
      "391/391 [==============================] - 212s 529ms/step - loss: 0.6492 - accuracy: 0.5569 - val_loss: 0.5164 - val_accuracy: 0.7406\n"
     ]
    },
    {
     "name": "stderr",
     "output_type": "stream",
     "text": [
      "2022-04-30 14:39:20.724375: W tensorflow/core/kernels/data/cache_dataset_ops.cc:768] The calling iterator did not fully read the dataset being cached. In order to avoid unexpected truncation of the dataset, the partially cached contents of the dataset  will be discarded. This can happen if you have an input pipeline similar to `dataset.cache().take(k).repeat()`. You should use `dataset.take(k).cache().repeat()` instead.\n"
     ]
    },
    {
     "name": "stdout",
     "output_type": "stream",
     "text": [
      "Epoch 2/10\n",
      "391/391 [==============================] - 197s 504ms/step - loss: 0.4176 - accuracy: 0.8044 - val_loss: 0.3691 - val_accuracy: 0.8422\n"
     ]
    },
    {
     "name": "stderr",
     "output_type": "stream",
     "text": [
      "2022-04-30 14:42:37.657509: W tensorflow/core/kernels/data/cache_dataset_ops.cc:768] The calling iterator did not fully read the dataset being cached. In order to avoid unexpected truncation of the dataset, the partially cached contents of the dataset  will be discarded. This can happen if you have an input pipeline similar to `dataset.cache().take(k).repeat()`. You should use `dataset.take(k).cache().repeat()` instead.\n"
     ]
    },
    {
     "name": "stdout",
     "output_type": "stream",
     "text": [
      "Epoch 3/10\n",
      "391/391 [==============================] - 240s 614ms/step - loss: 0.3457 - accuracy: 0.8483 - val_loss: 0.3418 - val_accuracy: 0.8516\n"
     ]
    },
    {
     "name": "stderr",
     "output_type": "stream",
     "text": [
      "2022-04-30 14:46:37.868725: W tensorflow/core/kernels/data/cache_dataset_ops.cc:768] The calling iterator did not fully read the dataset being cached. In order to avoid unexpected truncation of the dataset, the partially cached contents of the dataset  will be discarded. This can happen if you have an input pipeline similar to `dataset.cache().take(k).repeat()`. You should use `dataset.take(k).cache().repeat()` instead.\n"
     ]
    },
    {
     "name": "stdout",
     "output_type": "stream",
     "text": [
      "Epoch 4/10\n",
      "391/391 [==============================] - 226s 578ms/step - loss: 0.3233 - accuracy: 0.8603 - val_loss: 0.3387 - val_accuracy: 0.8599\n"
     ]
    },
    {
     "name": "stderr",
     "output_type": "stream",
     "text": [
      "2022-04-30 14:50:23.939258: W tensorflow/core/kernels/data/cache_dataset_ops.cc:768] The calling iterator did not fully read the dataset being cached. In order to avoid unexpected truncation of the dataset, the partially cached contents of the dataset  will be discarded. This can happen if you have an input pipeline similar to `dataset.cache().take(k).repeat()`. You should use `dataset.take(k).cache().repeat()` instead.\n"
     ]
    },
    {
     "name": "stdout",
     "output_type": "stream",
     "text": [
      "Epoch 5/10\n",
      "391/391 [==============================] - 224s 573ms/step - loss: 0.3138 - accuracy: 0.8656 - val_loss: 0.3269 - val_accuracy: 0.8552\n"
     ]
    },
    {
     "name": "stderr",
     "output_type": "stream",
     "text": [
      "2022-04-30 14:54:08.387265: W tensorflow/core/kernels/data/cache_dataset_ops.cc:768] The calling iterator did not fully read the dataset being cached. In order to avoid unexpected truncation of the dataset, the partially cached contents of the dataset  will be discarded. This can happen if you have an input pipeline similar to `dataset.cache().take(k).repeat()`. You should use `dataset.take(k).cache().repeat()` instead.\n"
     ]
    },
    {
     "name": "stdout",
     "output_type": "stream",
     "text": [
      "Epoch 6/10\n",
      "391/391 [==============================] - 221s 564ms/step - loss: 0.3085 - accuracy: 0.8677 - val_loss: 0.3255 - val_accuracy: 0.8521\n"
     ]
    },
    {
     "name": "stderr",
     "output_type": "stream",
     "text": [
      "2022-04-30 14:57:49.026440: W tensorflow/core/kernels/data/cache_dataset_ops.cc:768] The calling iterator did not fully read the dataset being cached. In order to avoid unexpected truncation of the dataset, the partially cached contents of the dataset  will be discarded. This can happen if you have an input pipeline similar to `dataset.cache().take(k).repeat()`. You should use `dataset.take(k).cache().repeat()` instead.\n"
     ]
    },
    {
     "name": "stdout",
     "output_type": "stream",
     "text": [
      "Epoch 7/10\n",
      "391/391 [==============================] - 211s 540ms/step - loss: 0.3033 - accuracy: 0.8705 - val_loss: 0.3288 - val_accuracy: 0.8453\n"
     ]
    },
    {
     "name": "stderr",
     "output_type": "stream",
     "text": [
      "2022-04-30 15:02:01.777849: W tensorflow/core/kernels/data/cache_dataset_ops.cc:768] The calling iterator did not fully read the dataset being cached. In order to avoid unexpected truncation of the dataset, the partially cached contents of the dataset  will be discarded. This can happen if you have an input pipeline similar to `dataset.cache().take(k).repeat()`. You should use `dataset.take(k).cache().repeat()` instead.\n"
     ]
    },
    {
     "name": "stdout",
     "output_type": "stream",
     "text": [
      "Epoch 8/10\n",
      "391/391 [==============================] - 232s 594ms/step - loss: 0.3007 - accuracy: 0.8705 - val_loss: 0.3214 - val_accuracy: 0.8589\n"
     ]
    },
    {
     "name": "stderr",
     "output_type": "stream",
     "text": [
      "2022-04-30 15:05:54.057132: W tensorflow/core/kernels/data/cache_dataset_ops.cc:768] The calling iterator did not fully read the dataset being cached. In order to avoid unexpected truncation of the dataset, the partially cached contents of the dataset  will be discarded. This can happen if you have an input pipeline similar to `dataset.cache().take(k).repeat()`. You should use `dataset.take(k).cache().repeat()` instead.\n"
     ]
    },
    {
     "name": "stdout",
     "output_type": "stream",
     "text": [
      "Epoch 9/10\n",
      "391/391 [==============================] - 189s 483ms/step - loss: 0.3014 - accuracy: 0.8720 - val_loss: 0.3298 - val_accuracy: 0.8604\n"
     ]
    },
    {
     "name": "stderr",
     "output_type": "stream",
     "text": [
      "2022-04-30 15:09:03.357248: W tensorflow/core/kernels/data/cache_dataset_ops.cc:768] The calling iterator did not fully read the dataset being cached. In order to avoid unexpected truncation of the dataset, the partially cached contents of the dataset  will be discarded. This can happen if you have an input pipeline similar to `dataset.cache().take(k).repeat()`. You should use `dataset.take(k).cache().repeat()` instead.\n"
     ]
    },
    {
     "name": "stdout",
     "output_type": "stream",
     "text": [
      "Epoch 10/10\n",
      "391/391 [==============================] - 181s 462ms/step - loss: 0.2975 - accuracy: 0.8722 - val_loss: 0.3202 - val_accuracy: 0.8578\n"
     ]
    },
    {
     "name": "stderr",
     "output_type": "stream",
     "text": [
      "2022-04-30 15:12:04.021377: W tensorflow/core/kernels/data/cache_dataset_ops.cc:768] The calling iterator did not fully read the dataset being cached. In order to avoid unexpected truncation of the dataset, the partially cached contents of the dataset  will be discarded. This can happen if you have an input pipeline similar to `dataset.cache().take(k).repeat()`. You should use `dataset.take(k).cache().repeat()` instead.\n"
     ]
    }
   ],
   "source": [
    "history = model.fit(train_dataset, epochs=10,\n",
    "                    validation_data=test_dataset,\n",
    "                    validation_steps=30)"
   ]
  },
  {
   "cell_type": "code",
   "execution_count": 20,
   "metadata": {},
   "outputs": [
    {
     "name": "stdout",
     "output_type": "stream",
     "text": [
      "391/391 [==============================] - 57s 145ms/step - loss: 0.3162 - accuracy: 0.8553\n",
      "Test Loss: 0.3162294030189514\n",
      "Test Accuracy: 0.8553199768066406\n"
     ]
    }
   ],
   "source": [
    "test_loss, test_acc = model.evaluate(test_dataset)\n",
    "\n",
    "print('Test Loss:', test_loss)\n",
    "print('Test Accuracy:', test_acc)"
   ]
  },
  {
   "cell_type": "code",
   "execution_count": 21,
   "metadata": {},
   "outputs": [
    {
     "name": "stdout",
     "output_type": "stream",
     "text": [
      "[[-1.4745029]]\n"
     ]
    }
   ],
   "source": [
    "# predict on a sample text without padding.\n",
    "\n",
    "sample_text = ('The movie was not good. The animation and the graphics '\n",
    "               'were terrible. I would not recommend this movie.')\n",
    "predictions = model.predict(np.array([sample_text]))\n",
    "print(predictions)"
   ]
  },
  {
   "cell_type": "code",
   "execution_count": 22,
   "metadata": {},
   "outputs": [
    {
     "data": {
      "image/png": "[encoded data removed]",
      "text/plain": [
       "<Figure size 1152x432 with 2 Axes>"
      ]
     },
     "metadata": {
      "needs_background": "light"
     },
     "output_type": "display_data"
    }
   ],
   "source": [
    "plt.figure(figsize=(16, 6))\n",
    "plt.subplot(1, 2, 1)\n",
    "plot_graphs(history, 'accuracy')\n",
    "plt.subplot(1, 2, 2)\n",
    "plot_graphs(history, 'loss')"
   ]
  },
  {
   "cell_type": "code",
   "execution_count": 23,
   "metadata": {},
   "outputs": [
    {
     "data": {
      "text/plain": [
       "<PrefetchDataset shapes: ((None,), (None,)), types: (tf.string, tf.int64)>"
      ]
     },
     "execution_count": 23,
     "metadata": {},
     "output_type": "execute_result"
    }
   ],
   "source": [
    "train_dataset"
   ]
  },
  {
   "cell_type": "code",
   "execution_count": 24,
   "metadata": {},
   "outputs": [],
   "source": [
    "import os"
   ]
  },
  {
   "cell_type": "code",
   "execution_count": 25,
   "metadata": {},
   "outputs": [],
   "source": [
    "os.makedirs(\"models\", exist_ok=True)"
   ]
  },
  {
   "cell_type": "code",
   "execution_count": 26,
   "metadata": {},
   "outputs": [
    {
     "name": "stderr",
     "output_type": "stream",
     "text": [
      "2022-04-30 15:45:08.929843: W tensorflow/python/util/util.cc:368] Sets are not currently considered sequences, but this may change in the future, so consider avoiding using them.\n",
      "WARNING:absl:Found untraced functions such as lstm_cell_1_layer_call_fn, lstm_cell_1_layer_call_and_return_conditional_losses, lstm_cell_2_layer_call_fn, lstm_cell_2_layer_call_and_return_conditional_losses, lstm_cell_1_layer_call_fn while saving (showing 5 of 10). These functions will not be directly callable after loading.\n"
     ]
    },
    {
     "name": "stdout",
     "output_type": "stream",
     "text": [
      "INFO:tensorflow:Assets written to: models/assets\n"
     ]
    },
    {
     "name": "stderr",
     "output_type": "stream",
     "text": [
      "INFO:tensorflow:Assets written to: models/assets\n",
      "WARNING:absl:<keras.layers.recurrent.LSTMCell object at 0x7fa40e49a358> has the same name 'LSTMCell' as a built-in Keras object. Consider renaming <class 'keras.layers.recurrent.LSTMCell'> to avoid naming conflicts when loading with `tf.keras.models.load_model`. If renaming is not possible, pass the object in the `custom_objects` parameter of the load function.\n",
      "WARNING:absl:<keras.layers.recurrent.LSTMCell object at 0x7fa40e49d400> has the same name 'LSTMCell' as a built-in Keras object. Consider renaming <class 'keras.layers.recurrent.LSTMCell'> to avoid naming conflicts when loading with `tf.keras.models.load_model`. If renaming is not possible, pass the object in the `custom_objects` parameter of the load function.\n"
     ]
    }
   ],
   "source": [
    "model.save(\"models/\")"
   ]
  },
  {
   "cell_type": "code",
   "execution_count": null,
   "metadata": {},
   "outputs": [],
   "source": []
  }
 ],
 "metadata": {
  "interpreter": {
   "hash": "65fb3d36e4df64db5dca36992287d90645ae4c69cef0ab1fcebeb74fef9d34a2"
  },
  "kernelspec": {
   "display_name": "Python 3 (ipykernel)",
   "language": "python",
   "name": "python3"
  },
  "language_info": {
   "codemirror_mode": {
    "name": "ipython",
    "version": 3
   },
   "file_extension": ".py",
   "mimetype": "text/x-python",
   "name": "python",
   "nbconvert_exporter": "python",
   "pygments_lexer": "ipython3",
   "version": "3.7.0"
  }
 },
 "nbformat": 4,
 "nbformat_minor": 4
}
